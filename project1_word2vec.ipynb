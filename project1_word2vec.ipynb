{
 "cells": [
  {
   "cell_type": "code",
   "execution_count": 1,
   "metadata": {},
   "outputs": [],
   "source": [
    "from gensim.models import Word2Vec, KeyedVectors\n",
    "from sklearn.metrics.pairwise import cosine_similarity\n",
    "import numpy as np"
   ]
  },
  {
   "cell_type": "code",
   "execution_count": 18,
   "metadata": {},
   "outputs": [
    {
     "name": "stdout",
     "output_type": "stream",
     "text": [
      "Requirement already satisfied: rank_bm25 in c:\\python311\\lib\\site-packages (0.2.2)\n",
      "Requirement already satisfied: numpy in c:\\python311\\lib\\site-packages (from rank_bm25) (1.26.0)\n"
     ]
    },
    {
     "name": "stderr",
     "output_type": "stream",
     "text": [
      "fatal: destination path 'project1-2023' already exists and is not an empty directory.\n",
      "[nltk_data] Downloading package punkt to\n",
      "[nltk_data]     C:\\Users\\rosel\\AppData\\Roaming\\nltk_data...\n",
      "[nltk_data]   Package punkt is already up-to-date!\n",
      "[nltk_data] Downloading package stopwords to\n",
      "[nltk_data]     C:\\Users\\rosel\\AppData\\Roaming\\nltk_data...\n",
      "[nltk_data]   Package stopwords is already up-to-date!\n"
     ]
    },
    {
     "name": "stdout",
     "output_type": "stream",
     "text": [
      "Word2Vec Average NDCG: 0.30354577459717424\n"
     ]
    }
   ],
   "source": [
    "!pip install rank_bm25\n",
    "!git clone https://github.com/cr-nlp/project1-2023.git\n",
    "\n",
    "import urllib.request as re\n",
    "from collections import defaultdict\n",
    "import nltk\n",
    "from gensim.models import Word2Vec\n",
    "from nltk.tokenize import word_tokenize\n",
    "from nltk.corpus import stopwords\n",
    "import numpy as np\n",
    "from sklearn.metrics.pairwise import cosine_similarity\n",
    "\n",
    "nltk.download('punkt')\n",
    "nltk.download('stopwords')\n",
    "\n",
    "def loadNFCorpus():\n",
    "\tdir = \"./project1-2023/\"\n",
    "\tfilename = dir +\"dev.docs\"\n",
    "\n",
    "\tdicDoc={}\n",
    "\twith open(filename,encoding='utf-8') as file:\n",
    "\t\tlines = file.readlines()\n",
    "\tfor line in lines:\n",
    "\t\ttabLine = line.split('\\t')\n",
    "\t\t#print(tabLine)\n",
    "\t\tkey = tabLine[0]\n",
    "\t\tvalue = tabLine[1]\n",
    "\t\t#print(value)\n",
    "\t\tdicDoc[key] = value\n",
    "\tfilename = dir + \"dev.all.queries\"\n",
    "\tdicReq={}\n",
    "\twith open(filename,encoding='utf-8') as file:\n",
    "\t\tlines = file.readlines()\n",
    "\tfor line in lines:\n",
    "\t\ttabLine = line.split('\\t')\n",
    "\t\tkey = tabLine[0]\n",
    "\t\tvalue = tabLine[1]\n",
    "\t\tdicReq[key] = value\n",
    "\tfilename = dir + \"dev.2-1-0.qrel\"\n",
    "\tdicReqDoc=defaultdict(dict)\n",
    "\twith open(filename,encoding='utf-8') as file:\n",
    "\t\tlines = file.readlines()\n",
    "\tfor line in lines:\n",
    "\t\ttabLine = line.strip().split('\\t')\n",
    "\t\treq = tabLine[0]\n",
    "\t\tdoc = tabLine[2]\n",
    "\t\tscore = int(tabLine[3])\n",
    "\t\tdicReqDoc[req][doc]=score\n",
    "\n",
    "\treturn dicDoc, dicReq, dicReqDoc\n",
    "\n",
    "\n",
    "def text2TokenList(text):\n",
    "    stopword = stopwords.words('english')\n",
    "    word_tokens = word_tokenize(text.lower())\n",
    "    return [word for word in word_tokens if word not in stopword and len(word) > 2]\n",
    "\n",
    "def train_word2vec_model(corpus):\n",
    "    # Train Word2Vec model\n",
    "    model = Word2Vec(corpus, vector_size=100, window=5, min_count=1, workers=4)\n",
    "    return model\n",
    "\n",
    "def document_vector(doc, model):\n",
    "    # Create a document vector\n",
    "    return np.mean([model.wv[word] for word in doc if word in model.wv.key_to_index], axis=0)\n",
    "\n",
    "def run_word2vec_model():\n",
    "    dicDoc, dicReq, dicReqDoc = loadNFCorpus()\n",
    "\n",
    "    # Tokenize and prepare corpus for Word2Vec training\n",
    "    corpus = [text2TokenList(dicDoc[doc]) for doc in dicDoc]\n",
    "    word2vec_model = train_word2vec_model(corpus)\n",
    "\n",
    "    # Generate embeddings for documents and queries\n",
    "    doc_embeddings = {doc: document_vector(text2TokenList(dicDoc[doc]), word2vec_model) for doc in dicDoc}\n",
    "    query_embeddings = {req: document_vector(text2TokenList(dicReq[req]), word2vec_model) for req in dicReq}\n",
    "\n",
    "    # Compute cosine similarities\n",
    "    doc_matrix = np.array(list(doc_embeddings.values()))\n",
    "    query_matrix = np.array(list(query_embeddings.values()))\n",
    "    cosine_sim_matrix = cosine_similarity(query_matrix, doc_matrix)\n",
    "\n",
    "    # Evaluate the model\n",
    "    from sklearn.metrics import ndcg_score \n",
    "    ndcg_values = []\n",
    "    for i, req in enumerate(dicReq):\n",
    "        true_relevance = np.array([dicReqDoc[req].get(doc, 0) for doc in dicDoc])\n",
    "        predicted_relevance = cosine_sim_matrix[i]\n",
    "        ndcg_value = ndcg_score([true_relevance], [predicted_relevance])\n",
    "        ndcg_values.append(ndcg_value)\n",
    "\n",
    "    average_ndcg = np.mean(ndcg_values)\n",
    "    print(\"Word2Vec Average NDCG:\", average_ndcg)\n",
    "\n",
    "# Run the Word2Vec model\n",
    "run_word2vec_model()  \n"
   ]
  },
  {
   "cell_type": "code",
   "execution_count": null,
   "metadata": {},
   "outputs": [],
   "source": []
  },
  {
   "cell_type": "code",
   "execution_count": null,
   "metadata": {},
   "outputs": [],
   "source": []
  }
 ],
 "metadata": {
  "kernelspec": {
   "display_name": "Python 3",
   "language": "python",
   "name": "python3"
  },
  "language_info": {
   "codemirror_mode": {
    "name": "ipython",
    "version": 3
   },
   "file_extension": ".py",
   "mimetype": "text/x-python",
   "name": "python",
   "nbconvert_exporter": "python",
   "pygments_lexer": "ipython3",
   "version": "3.11.0"
  }
 },
 "nbformat": 4,
 "nbformat_minor": 2
}
