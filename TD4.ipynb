{
 "cells": [
  {
   "cell_type": "code",
   "execution_count": 4,
   "metadata": {},
   "outputs": [],
   "source": [
    "import tensorflow as tf\n",
    "from tensorflow.keras.datasets import imdb\n"
   ]
  },
  {
   "cell_type": "code",
   "execution_count": 5,
   "metadata": {},
   "outputs": [
    {
     "name": "stdout",
     "output_type": "stream",
     "text": [
      "Downloading data from https://storage.googleapis.com/tensorflow/tf-keras-datasets/imdb.npz\n",
      "17464789/17464789 [==============================] - 1s 0us/step\n"
     ]
    }
   ],
   "source": [
    "\n",
    "(train_data, train_labels), (test_data, test_labels) = imdb.load_data(num_words=10000)"
   ]
  },
  {
   "cell_type": "code",
   "execution_count": 6,
   "metadata": {},
   "outputs": [],
   "source": [
    "from tensorflow.keras.preprocessing.sequence import pad_sequences"
   ]
  },
  {
   "cell_type": "code",
   "execution_count": 7,
   "metadata": {},
   "outputs": [],
   "source": [
    "train_data = pad_sequences(train_data, value=0, padding='post', maxlen=256)\n",
    "test_data = pad_sequences(test_data, value=0, padding='post', maxlen=256)"
   ]
  },
  {
   "cell_type": "code",
   "execution_count": 8,
   "metadata": {},
   "outputs": [],
   "source": [
    "model = tf.keras.Sequential([\n",
    "    tf.keras.layers.Embedding(10000, 16),\n",
    "    tf.keras.layers.GlobalAveragePooling1D(),\n",
    "    tf.keras.layers.Dense(16, activation='relu'),\n",
    "    tf.keras.layers.Dense(1, activation='sigmoid')\n",
    "])\n",
    "\n",
    "model.compile(optimizer='adam',\n",
    "              loss='binary_crossentropy',\n",
    "              metrics=['accuracy'])"
   ]
  },
  {
   "cell_type": "code",
   "execution_count": 11,
   "metadata": {},
   "outputs": [],
   "source": [
    "import numpy as np"
   ]
  },
  {
   "cell_type": "code",
   "execution_count": 12,
   "metadata": {},
   "outputs": [],
   "source": [
    "x_val = train_data[:10000]\n",
    "partial_x_train = train_data[10000:]\n",
    "\n",
    "y_train = np.asarray(train_labels).astype('float32')\n",
    "y_test = np.asarray(test_labels).astype('float32')\n",
    "\n",
    "y_val = y_train[:10000]\n",
    "partial_y_train = y_train[10000:]"
   ]
  },
  {
   "cell_type": "code",
   "execution_count": 13,
   "metadata": {},
   "outputs": [
    {
     "name": "stdout",
     "output_type": "stream",
     "text": [
      "Epoch 1/20\n",
      "30/30 [==============================] - 5s 71ms/step - loss: 0.6918 - accuracy: 0.5869 - val_loss: 0.6898 - val_accuracy: 0.6837\n",
      "Epoch 2/20\n",
      "30/30 [==============================] - 1s 40ms/step - loss: 0.6861 - accuracy: 0.7325 - val_loss: 0.6820 - val_accuracy: 0.7283\n",
      "Epoch 3/20\n",
      "30/30 [==============================] - 1s 38ms/step - loss: 0.6741 - accuracy: 0.7321 - val_loss: 0.6674 - val_accuracy: 0.7448\n",
      "Epoch 4/20\n",
      "30/30 [==============================] - 1s 44ms/step - loss: 0.6525 - accuracy: 0.7689 - val_loss: 0.6414 - val_accuracy: 0.7666\n",
      "Epoch 5/20\n",
      "30/30 [==============================] - 1s 48ms/step - loss: 0.6189 - accuracy: 0.7915 - val_loss: 0.6068 - val_accuracy: 0.7825\n",
      "Epoch 6/20\n",
      "30/30 [==============================] - 2s 70ms/step - loss: 0.5769 - accuracy: 0.8067 - val_loss: 0.5653 - val_accuracy: 0.8005\n",
      "Epoch 7/20\n",
      "30/30 [==============================] - 1s 43ms/step - loss: 0.5302 - accuracy: 0.8265 - val_loss: 0.5227 - val_accuracy: 0.8177\n",
      "Epoch 8/20\n",
      "30/30 [==============================] - 2s 51ms/step - loss: 0.4832 - accuracy: 0.8451 - val_loss: 0.4813 - val_accuracy: 0.8316\n",
      "Epoch 9/20\n",
      "30/30 [==============================] - 1s 47ms/step - loss: 0.4393 - accuracy: 0.8583 - val_loss: 0.4444 - val_accuracy: 0.8417\n",
      "Epoch 10/20\n",
      "30/30 [==============================] - 1s 50ms/step - loss: 0.4002 - accuracy: 0.8707 - val_loss: 0.4128 - val_accuracy: 0.8512\n",
      "Epoch 11/20\n",
      "30/30 [==============================] - 1s 46ms/step - loss: 0.3664 - accuracy: 0.8806 - val_loss: 0.3869 - val_accuracy: 0.8578\n",
      "Epoch 12/20\n",
      "30/30 [==============================] - 1s 47ms/step - loss: 0.3375 - accuracy: 0.8894 - val_loss: 0.3664 - val_accuracy: 0.8625\n",
      "Epoch 13/20\n",
      "30/30 [==============================] - 1s 40ms/step - loss: 0.3137 - accuracy: 0.8941 - val_loss: 0.3498 - val_accuracy: 0.8665\n",
      "Epoch 14/20\n",
      "30/30 [==============================] - 1s 38ms/step - loss: 0.2932 - accuracy: 0.9007 - val_loss: 0.3361 - val_accuracy: 0.8711\n",
      "Epoch 15/20\n",
      "30/30 [==============================] - 1s 37ms/step - loss: 0.2753 - accuracy: 0.9059 - val_loss: 0.3256 - val_accuracy: 0.8743\n",
      "Epoch 16/20\n",
      "30/30 [==============================] - 1s 33ms/step - loss: 0.2595 - accuracy: 0.9112 - val_loss: 0.3167 - val_accuracy: 0.8755\n",
      "Epoch 17/20\n",
      "30/30 [==============================] - 1s 33ms/step - loss: 0.2456 - accuracy: 0.9165 - val_loss: 0.3102 - val_accuracy: 0.8786\n",
      "Epoch 18/20\n",
      "30/30 [==============================] - 1s 30ms/step - loss: 0.2342 - accuracy: 0.9188 - val_loss: 0.3041 - val_accuracy: 0.8789\n",
      "Epoch 19/20\n",
      "30/30 [==============================] - 1s 30ms/step - loss: 0.2218 - accuracy: 0.9234 - val_loss: 0.2993 - val_accuracy: 0.8816\n",
      "Epoch 20/20\n",
      "30/30 [==============================] - 1s 30ms/step - loss: 0.2114 - accuracy: 0.9274 - val_loss: 0.2953 - val_accuracy: 0.8822\n"
     ]
    }
   ],
   "source": [
    "history = model.fit(partial_x_train,\n",
    "                    partial_y_train,\n",
    "                    epochs=20,\n",
    "                    batch_size=512,\n",
    "                    validation_data=(x_val, y_val))"
   ]
  },
  {
   "cell_type": "code",
   "execution_count": 16,
   "metadata": {},
   "outputs": [
    {
     "name": "stdout",
     "output_type": "stream",
     "text": [
      "782/782 [==============================] - 2s 2ms/step - loss: 0.3088 - accuracy: 0.8744\n",
      "[0.30881792306900024, 0.8743600249290466]\n"
     ]
    }
   ],
   "source": [
    "results = model.evaluate(test_data, y_test)\n",
    "print(results)"
   ]
  },
  {
   "cell_type": "markdown",
   "metadata": {},
   "source": [
    "Le modèle a une précision de 87,44% sur l'ensemble de données de test avec une perte de 0.3088. C'est un résultat assez bon pour un premier modèle, surtout en utilisant une architecture simple."
   ]
  },
  {
   "cell_type": "code",
   "execution_count": 29,
   "metadata": {},
   "outputs": [],
   "source": [
    "import matplotlib.pyplot as plt"
   ]
  },
  {
   "cell_type": "code",
   "execution_count": 30,
   "metadata": {},
   "outputs": [
    {
     "data": {
      "image/png": "[encoded data removed]",
      "text/plain": [
       "<Figure size 640x480 with 1 Axes>"
      ]
     },
     "metadata": {},
     "output_type": "display_data"
    }
   ],
   "source": [
    "loss = history.history['loss']\n",
    "val_loss = history.history['val_loss']\n",
    "\n",
    "# Plot the training and validation loss\n",
    "epochs = range(1, len(loss) + 1)\n",
    "\n",
    "plt.figure()\n",
    "plt.plot(epochs, loss, 'bo', label='Training Loss')\n",
    "plt.plot(epochs, val_loss, 'b', label='Validation Loss')\n",
    "plt.title('Training and Validation Loss')\n",
    "plt.xlabel('Epochs')\n",
    "plt.ylabel('Loss')\n",
    "plt.legend()\n",
    "plt.show()"
   ]
  },
  {
   "cell_type": "code",
   "execution_count": null,
   "metadata": {},
   "outputs": [],
   "source": []
  }
 ],
 "metadata": {
  "kernelspec": {
   "display_name": "Python 3",
   "language": "python",
   "name": "python3"
  },
  "language_info": {
   "codemirror_mode": {
    "name": "ipython",
    "version": 3
   },
   "file_extension": ".py",
   "mimetype": "text/x-python",
   "name": "python",
   "nbconvert_exporter": "python",
   "pygments_lexer": "ipython3",
   "version": "3.11.0"
  }
 },
 "nbformat": 4,
 "nbformat_minor": 2
}
